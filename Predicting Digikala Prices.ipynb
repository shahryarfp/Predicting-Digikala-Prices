{
 "cells": [
  {
   "cell_type": "markdown",
   "id": "34f85ebb",
   "metadata": {},
   "source": [
    "# Shahryar Namdari"
   ]
  },
  {
   "cell_type": "markdown",
   "id": "Acpc0IZIIfu4",
   "metadata": {
    "id": "Acpc0IZIIfu4"
   },
   "source": [
    "## Access to Competition\n",
    "https://quera.org/problemset/138168/"
   ]
  },
  {
   "cell_type": "code",
   "execution_count": 76,
   "id": "cecb13db",
   "metadata": {
    "id": "cecb13db"
   },
   "outputs": [],
   "source": [
    "import numpy as np\n",
    "import math\n",
    "import pandas as pd\n",
    "import matplotlib.pyplot as plt\n",
    "import json\n",
    "from tqdm import notebook\n",
    "from sklearn.model_selection import train_test_split\n",
    "from sklearn.linear_model import LinearRegression\n",
    "from sklearn.tree import DecisionTreeRegressor\n",
    "from sklearn.ensemble import RandomForestRegressor\n",
    "from sklearn import neighbors\n",
    "import ast\n",
    "from collections import OrderedDict\n",
    "from sklearn.preprocessing import OneHotEncoder\n",
    "from sklearn.metrics import mean_squared_error\n",
    "from sklearn import neighbors"
   ]
  },
  {
   "cell_type": "markdown",
   "id": "d66a983f",
   "metadata": {},
   "source": [
    "## Reading Data"
   ]
  },
  {
   "cell_type": "code",
   "execution_count": 2,
   "id": "c6275667",
   "metadata": {
    "colab": {
     "base_uri": "https://localhost:8080/"
    },
    "id": "c6275667",
    "outputId": "f4233dc7-9992-4145-8cbc-3a2e88960a54"
   },
   "outputs": [
    {
     "name": "stdout",
     "output_type": "stream",
     "text": [
      "train data length: 68840\n",
      "final_test data length: 34262\n"
     ]
    }
   ],
   "source": [
    "train = pd.read_csv('./data/train.csv')\n",
    "train.dropna(axis=0, inplace=True)\n",
    "final_test = pd.read_csv('./data/test.csv')\n",
    "print(\"train data length:\", len(train))\n",
    "print(\"final_test data length:\", len(final_test))"
   ]
  },
  {
   "cell_type": "markdown",
   "id": "7f7f5f1f",
   "metadata": {},
   "source": [
    "## Displaying Data"
   ]
  },
  {
   "cell_type": "code",
   "execution_count": 3,
   "id": "4946034a",
   "metadata": {},
   "outputs": [
    {
     "data": {
      "text/html": [
       "<div>\n",
       "<style scoped>\n",
       "    .dataframe tbody tr th:only-of-type {\n",
       "        vertical-align: middle;\n",
       "    }\n",
       "\n",
       "    .dataframe tbody tr th {\n",
       "        vertical-align: top;\n",
       "    }\n",
       "\n",
       "    .dataframe thead th {\n",
       "        text-align: right;\n",
       "    }\n",
       "</style>\n",
       "<table border=\"1\" class=\"dataframe\">\n",
       "  <thead>\n",
       "    <tr style=\"text-align: right;\">\n",
       "      <th></th>\n",
       "      <th>id</th>\n",
       "      <th>product_description</th>\n",
       "      <th>price</th>\n",
       "    </tr>\n",
       "  </thead>\n",
       "  <tbody>\n",
       "    <tr>\n",
       "      <th>0</th>\n",
       "      <td>0</td>\n",
       "      <td>{'مشخصات فنی': 'متراژ: 150 سانتی متر\\r\\nپورت ی...</td>\n",
       "      <td>1080000</td>\n",
       "    </tr>\n",
       "    <tr>\n",
       "      <th>1</th>\n",
       "      <td>1</td>\n",
       "      <td>{'مشخصات فنی': 'CABLE LENTH:\\r\\n10feet \\\\/3M\\r...</td>\n",
       "      <td>990000</td>\n",
       "    </tr>\n",
       "    <tr>\n",
       "      <th>2</th>\n",
       "      <td>2</td>\n",
       "      <td>{'مشخصات فنی': 'نوع کابل: KVM USB\\r\\nطول کابل:...</td>\n",
       "      <td>1680000</td>\n",
       "    </tr>\n",
       "    <tr>\n",
       "      <th>3</th>\n",
       "      <td>3</td>\n",
       "      <td>{'دسته بندی': 'کابل کمبو', 'برند': 'متفرقه'}</td>\n",
       "      <td>4500000</td>\n",
       "    </tr>\n",
       "    <tr>\n",
       "      <th>4</th>\n",
       "      <td>4</td>\n",
       "      <td>{'مشخصات فنی': 'کیبورد: 6pin Mini-DIN Male - P...</td>\n",
       "      <td>700000</td>\n",
       "    </tr>\n",
       "    <tr>\n",
       "      <th>...</th>\n",
       "      <td>...</td>\n",
       "      <td>...</td>\n",
       "      <td>...</td>\n",
       "    </tr>\n",
       "    <tr>\n",
       "      <th>68835</th>\n",
       "      <td>68835</td>\n",
       "      <td>{'دسته بندی': 'شارژر تبلت و موبایل', 'برند': '...</td>\n",
       "      <td>2530000</td>\n",
       "    </tr>\n",
       "    <tr>\n",
       "      <th>68836</th>\n",
       "      <td>68836</td>\n",
       "      <td>{'دسته بندی': 'شارژر تبلت و موبایل', 'برند': '...</td>\n",
       "      <td>22000000</td>\n",
       "    </tr>\n",
       "    <tr>\n",
       "      <th>68837</th>\n",
       "      <td>68837</td>\n",
       "      <td>{'دسته بندی': 'شارژر تبلت و موبایل', 'برند': '...</td>\n",
       "      <td>4000000</td>\n",
       "    </tr>\n",
       "    <tr>\n",
       "      <th>68838</th>\n",
       "      <td>68838</td>\n",
       "      <td>{'کابل همراه': ['لایتنینگ'], 'ولتاژ خروجی': ['...</td>\n",
       "      <td>4300000</td>\n",
       "    </tr>\n",
       "    <tr>\n",
       "      <th>68839</th>\n",
       "      <td>68839</td>\n",
       "      <td>{'وزن': 'یک سانتی\\u200cمتر', 'درگاه\\u200cهای ا...</td>\n",
       "      <td>950000</td>\n",
       "    </tr>\n",
       "  </tbody>\n",
       "</table>\n",
       "<p>68840 rows × 3 columns</p>\n",
       "</div>"
      ],
      "text/plain": [
       "          id                                product_description     price\n",
       "0          0  {'مشخصات فنی': 'متراژ: 150 سانتی متر\\r\\nپورت ی...   1080000\n",
       "1          1  {'مشخصات فنی': 'CABLE LENTH:\\r\\n10feet \\\\/3M\\r...    990000\n",
       "2          2  {'مشخصات فنی': 'نوع کابل: KVM USB\\r\\nطول کابل:...   1680000\n",
       "3          3       {'دسته بندی': 'کابل کمبو', 'برند': 'متفرقه'}   4500000\n",
       "4          4  {'مشخصات فنی': 'کیبورد: 6pin Mini-DIN Male - P...    700000\n",
       "...      ...                                                ...       ...\n",
       "68835  68835  {'دسته بندی': 'شارژر تبلت و موبایل', 'برند': '...   2530000\n",
       "68836  68836  {'دسته بندی': 'شارژر تبلت و موبایل', 'برند': '...  22000000\n",
       "68837  68837  {'دسته بندی': 'شارژر تبلت و موبایل', 'برند': '...   4000000\n",
       "68838  68838  {'کابل همراه': ['لایتنینگ'], 'ولتاژ خروجی': ['...   4300000\n",
       "68839  68839  {'وزن': 'یک سانتی\\u200cمتر', 'درگاه\\u200cهای ا...    950000\n",
       "\n",
       "[68840 rows x 3 columns]"
      ]
     },
     "execution_count": 3,
     "metadata": {},
     "output_type": "execute_result"
    }
   ],
   "source": [
    "train"
   ]
  },
  {
   "cell_type": "code",
   "execution_count": 4,
   "id": "3f7d7356",
   "metadata": {},
   "outputs": [
    {
     "data": {
      "text/html": [
       "<div>\n",
       "<style scoped>\n",
       "    .dataframe tbody tr th:only-of-type {\n",
       "        vertical-align: middle;\n",
       "    }\n",
       "\n",
       "    .dataframe tbody tr th {\n",
       "        vertical-align: top;\n",
       "    }\n",
       "\n",
       "    .dataframe thead th {\n",
       "        text-align: right;\n",
       "    }\n",
       "</style>\n",
       "<table border=\"1\" class=\"dataframe\">\n",
       "  <thead>\n",
       "    <tr style=\"text-align: right;\">\n",
       "      <th></th>\n",
       "      <th>id</th>\n",
       "      <th>product_description</th>\n",
       "    </tr>\n",
       "  </thead>\n",
       "  <tbody>\n",
       "    <tr>\n",
       "      <th>0</th>\n",
       "      <td>0</td>\n",
       "      <td>{'سازگار با': 'C21N1401\\r\\nX455', 'ولتاژ باتری...</td>\n",
       "    </tr>\n",
       "    <tr>\n",
       "      <th>1</th>\n",
       "      <td>1</td>\n",
       "      <td>{'سازگار با': 'A31N1519\\r\\nX540', 'ولتاژ باتری...</td>\n",
       "    </tr>\n",
       "    <tr>\n",
       "      <th>2</th>\n",
       "      <td>2</td>\n",
       "      <td>{'تعداد فن': 'ندارد', 'نوع سیستم خنک کنندگی': ...</td>\n",
       "    </tr>\n",
       "    <tr>\n",
       "      <th>3</th>\n",
       "      <td>3</td>\n",
       "      <td>{'سازگار با': 'A41N1424\\r\\nGL552\\r\\nZX50\\r\\nAS...</td>\n",
       "    </tr>\n",
       "    <tr>\n",
       "      <th>4</th>\n",
       "      <td>4</td>\n",
       "      <td>{'سازگار با': 'AP31\\r\\nASUS 1008', 'ولتاژ باتر...</td>\n",
       "    </tr>\n",
       "    <tr>\n",
       "      <th>...</th>\n",
       "      <td>...</td>\n",
       "      <td>...</td>\n",
       "    </tr>\n",
       "    <tr>\n",
       "      <th>34257</th>\n",
       "      <td>34257</td>\n",
       "      <td>{'ابعاد': '135.5*71.5*9.5', 'ولتاژ ورودی': '9V...</td>\n",
       "    </tr>\n",
       "    <tr>\n",
       "      <th>34258</th>\n",
       "      <td>34258</td>\n",
       "      <td>{'ولتاژ ورودی': 'الیاف گیاهی', 'شدت جریان خروج...</td>\n",
       "    </tr>\n",
       "    <tr>\n",
       "      <th>34259</th>\n",
       "      <td>34259</td>\n",
       "      <td>{'ولتاژ ورودی': '110-240 ', 'ولتاژ خروجی': 'کر...</td>\n",
       "    </tr>\n",
       "    <tr>\n",
       "      <th>34260</th>\n",
       "      <td>34260</td>\n",
       "      <td>{'وزن': 'بند قابل تعویض', 'ولتاژ ورودی': ['5']...</td>\n",
       "    </tr>\n",
       "    <tr>\n",
       "      <th>34261</th>\n",
       "      <td>34261</td>\n",
       "      <td>{'ابعاد': '26x101x107', 'وزن': 'گلدوزی', 'ولتا...</td>\n",
       "    </tr>\n",
       "  </tbody>\n",
       "</table>\n",
       "<p>34262 rows × 2 columns</p>\n",
       "</div>"
      ],
      "text/plain": [
       "          id                                product_description\n",
       "0          0  {'سازگار با': 'C21N1401\\r\\nX455', 'ولتاژ باتری...\n",
       "1          1  {'سازگار با': 'A31N1519\\r\\nX540', 'ولتاژ باتری...\n",
       "2          2  {'تعداد فن': 'ندارد', 'نوع سیستم خنک کنندگی': ...\n",
       "3          3  {'سازگار با': 'A41N1424\\r\\nGL552\\r\\nZX50\\r\\nAS...\n",
       "4          4  {'سازگار با': 'AP31\\r\\nASUS 1008', 'ولتاژ باتر...\n",
       "...      ...                                                ...\n",
       "34257  34257  {'ابعاد': '135.5*71.5*9.5', 'ولتاژ ورودی': '9V...\n",
       "34258  34258  {'ولتاژ ورودی': 'الیاف گیاهی', 'شدت جریان خروج...\n",
       "34259  34259  {'ولتاژ ورودی': '110-240 ', 'ولتاژ خروجی': 'کر...\n",
       "34260  34260  {'وزن': 'بند قابل تعویض', 'ولتاژ ورودی': ['5']...\n",
       "34261  34261  {'ابعاد': '26x101x107', 'وزن': 'گلدوزی', 'ولتا...\n",
       "\n",
       "[34262 rows x 2 columns]"
      ]
     },
     "execution_count": 4,
     "metadata": {},
     "output_type": "execute_result"
    }
   ],
   "source": [
    "final_test"
   ]
  },
  {
   "cell_type": "markdown",
   "id": "24b63e73",
   "metadata": {},
   "source": [
    "## Sample Preprocess"
   ]
  },
  {
   "cell_type": "markdown",
   "id": "c1e58696",
   "metadata": {},
   "source": [
    "### Before:"
   ]
  },
  {
   "cell_type": "code",
   "execution_count": 5,
   "id": "371bd818",
   "metadata": {},
   "outputs": [
    {
     "data": {
      "text/plain": [
       "array([1,\n",
       "       \"{'مشخصات فنی': 'CABLE LENTH:\\\\r\\\\n10feet \\\\\\\\/3M\\\\r\\\\nPC SIDE CONNECTORS_CONNECTED TO PC : \\\\r\\\\nPS\\\\\\\\/2 Keyboard mini-Din 6 pin, male\\\\r\\\\nPS\\\\\\\\/2 Mouse Mini-Din 6 pin, male\\\\r\\\\nVGA HDDB 15pin, male\\\\r\\\\nKVM SIDE CONNECTORS-CONNECTED TO KVM SWITCH: \\\\r\\\\nHDDB 15pin, male', 'دسته بندی': 'کابل کمبو', 'برند': 'ادیمکس'}\",\n",
       "       990000], dtype=object)"
      ]
     },
     "execution_count": 5,
     "metadata": {},
     "output_type": "execute_result"
    }
   ],
   "source": [
    "sample = train.values[1,:]\n",
    "sample"
   ]
  },
  {
   "cell_type": "markdown",
   "id": "e68f7898",
   "metadata": {},
   "source": [
    "### After:"
   ]
  },
  {
   "cell_type": "code",
   "execution_count": 6,
   "id": "6b8eeeaa",
   "metadata": {
    "colab": {
     "base_uri": "https://localhost:8080/",
     "height": 90
    },
    "id": "6b8eeeaa",
    "outputId": "d2259193-f633-4223-ce6e-42e46402a6ae"
   },
   "outputs": [
    {
     "data": {
      "text/plain": [
       "\"{'مشخصات فنی': 'CABLE LENTH:10feet 3MPC SIDE CONNECTORS_CONNECTED TO PC : PS2 Keyboard mini-Din 6 pin, malePS2 Mouse Mini-Din 6 pin, maleVGA HDDB 15pin, maleKVM SIDE CONNECTORS-CONNECTED TO KVM SWITCH: HDDB 15pin, male', 'دسته بندی': 'کابل کمبو', 'برند': 'ادیمکس'}\""
      ]
     },
     "execution_count": 6,
     "metadata": {},
     "output_type": "execute_result"
    }
   ],
   "source": [
    "sample = sample[1]\n",
    "sample = sample.replace('\\\\n','')\n",
    "sample = sample.replace('\\\\r','')\n",
    "sample = sample.replace('\\\\u200c','')\n",
    "sample = sample.replace('\\\\\\\\/','')\n",
    "sample"
   ]
  },
  {
   "cell_type": "markdown",
   "id": "99157c34",
   "metadata": {},
   "source": [
    "### Sample Convert to Dictionary:"
   ]
  },
  {
   "cell_type": "code",
   "execution_count": 7,
   "id": "f09003ec",
   "metadata": {
    "colab": {
     "base_uri": "https://localhost:8080/"
    },
    "id": "f09003ec",
    "outputId": "04ca3b96-0e3d-48de-ec12-455cea272a6c"
   },
   "outputs": [
    {
     "data": {
      "text/plain": [
       "dict_keys(['ابعاد', 'مشخصات باتری', 'نرم افزار یا اپلیکیشن سازگار', 'سایر امکانات', 'لوازم جانبی', 'سیستم عامل اپلیکیشن', 'وزن', 'دسته بندی', 'برند'])"
      ]
     },
     "execution_count": 7,
     "metadata": {},
     "output_type": "execute_result"
    }
   ],
   "source": [
    "sample = train.values[22,:][1]\n",
    "res = ast.literal_eval(sample)\n",
    "res.keys()"
   ]
  },
  {
   "cell_type": "markdown",
   "id": "9a6fa061",
   "metadata": {},
   "source": [
    "## Preprocess"
   ]
  },
  {
   "cell_type": "code",
   "execution_count": 8,
   "id": "da917cc7",
   "metadata": {
    "id": "da917cc7"
   },
   "outputs": [
    {
     "data": {
      "application/vnd.jupyter.widget-view+json": {
       "model_id": "457466a0d3384a51989f27db1ba23f15",
       "version_major": 2,
       "version_minor": 0
      },
      "text/plain": [
       "  0%|          | 0/68840 [00:00<?, ?it/s]"
      ]
     },
     "metadata": {},
     "output_type": "display_data"
    }
   ],
   "source": [
    "list_train_dict = []\n",
    "for i in notebook.tqdm(range(len(train))):\n",
    "    sample = train.values[i,1]\n",
    "    sample = sample.replace('\\\\n','')\n",
    "    sample = sample.replace('\\\\r','')\n",
    "    sample = sample.replace('\\\\u200c','')\n",
    "    sample = sample.replace('\\\\\\\\/','')\n",
    "    list_train_dict.append(ast.literal_eval(sample))"
   ]
  },
  {
   "cell_type": "code",
   "execution_count": 9,
   "id": "7ff2fc65",
   "metadata": {
    "colab": {
     "base_uri": "https://localhost:8080/",
     "height": 104,
     "referenced_widgets": [
      "de5ac4cc34864d8190edb52dddf9993f",
      "b3379e0211f747eda2619ca57518ffa6",
      "e43ccba4b8a14c3ea6a5b5cb4d536c11",
      "acbc2cd9d4e14d41b5c1f6c6c545b2fa",
      "86a969c5b3c441c0b075ca6882978344",
      "dcd2a4c7f99245419f34147c5da7e4e9",
      "39cdd0b06cfe4516bca31e6f0a39caf4",
      "59111880cdc7418ca700c80a21886ce5",
      "5e12b5a5ca394c4b94797a61e9e67993",
      "2fc0922b207148b4a1218bff87072152",
      "1134516c9f9045a8b3e35667aca14bff"
     ]
    },
    "id": "7ff2fc65",
    "outputId": "d1672d6c-616a-49bb-c084-63ada028140c"
   },
   "outputs": [
    {
     "data": {
      "application/vnd.jupyter.widget-view+json": {
       "model_id": "2e8729186e66405f95195cf8b32adc2d",
       "version_major": 2,
       "version_minor": 0
      },
      "text/plain": [
       "  0%|          | 0/34262 [00:00<?, ?it/s]"
      ]
     },
     "metadata": {},
     "output_type": "display_data"
    }
   ],
   "source": [
    "list_test_dict = []\n",
    "for i in notebook.tqdm(range(len(final_test))):\n",
    "    sample = final_test.values[i,1]\n",
    "    sample = sample.replace('\\\\n','')\n",
    "    sample = sample.replace('\\\\r','')\n",
    "    sample = sample.replace('\\\\u200c','')\n",
    "    sample = sample.replace('\\\\\\\\/','')\n",
    "    list_test_dict.append(ast.literal_eval(sample))"
   ]
  },
  {
   "cell_type": "code",
   "execution_count": 10,
   "id": "875cff10",
   "metadata": {
    "colab": {
     "base_uri": "https://localhost:8080/"
    },
    "id": "875cff10",
    "outputId": "fc481474-68cc-4965-951f-07622a884216"
   },
   "outputs": [],
   "source": [
    "def count_keys_num(list_t_dict):\n",
    "    keys_count_dict = OrderedDict()\n",
    "    for i in range(len(list_t_dict)):\n",
    "        temp_keys = list(list_t_dict[i].keys())\n",
    "        for key in temp_keys:\n",
    "            if key not in keys_count_dict.keys():\n",
    "                keys_count_dict[key] = 1\n",
    "            else:\n",
    "                keys_count_dict[key] += 1\n",
    "    # sorting\n",
    "    keys_count_dict = dict(OrderedDict(sorted(keys_count_dict.items(), key=lambda t: t[1])))\n",
    "    keys_count_dict = OrderedDict(reversed(list(keys_count_dict.items())))\n",
    "    keys_count_list = []\n",
    "    for key in keys_count_dict.keys():\n",
    "        keys_count_list.append([key, keys_count_dict[key]])\n",
    "    return keys_count_list\n",
    "\n",
    "def count_keys_type(list_t_dict, feature):\n",
    "    count_type = 0\n",
    "    types = []\n",
    "    for i in range(len(list_t_dict)):\n",
    "        type_ = list_t_dict[i][feature]\n",
    "        if type_ not in types:\n",
    "            types.append(type_)\n",
    "            count_type += 1\n",
    "    print(feature,\":\", count_type)\n",
    "    return types"
   ]
  },
  {
   "cell_type": "code",
   "execution_count": 11,
   "id": "5cd7a927",
   "metadata": {
    "colab": {
     "base_uri": "https://localhost:8080/",
     "height": 36
    },
    "id": "5cd7a927",
    "outputId": "3ab016eb-7a61-4f58-d24b-41bf0b454d3b"
   },
   "outputs": [],
   "source": [
    "keys_count_list_train = count_keys_num(list_train_dict)\n",
    "keys_count_list_test = count_keys_num(list_test_dict)"
   ]
  },
  {
   "cell_type": "code",
   "execution_count": 107,
   "id": "a85edafb",
   "metadata": {
    "id": "a85edafb"
   },
   "outputs": [
    {
     "name": "stdout",
     "output_type": "stream",
     "text": [
      "['برند', 68840]\n",
      "['دسته بندی', 68840]\n",
      "['وزن', 37684]\n",
      "['ابعاد', 31583]\n",
      "['مناسب برای', 12543]\n",
      "['نوع اتصال', 11568]\n",
      "['درگاههای ارتباطی', 9065]\n",
      "['طول کابل', 8434]\n",
      "['رابطها', 7607]\n",
      "['قابلیتهای مقاومتی', 7240]\n",
      "['نوع رابط', 7081]\n",
      "['نوع کابل', 6907]\n",
      "['ظرفیت', 6843]\n",
      "['سایر مشخصات', 6763]\n",
      "['منبع تغذیه', 5880]\n",
      "['شدت جریان خروجی', 5526]\n",
      "['تعداد درگاه خروجی', 5442]\n",
      "['ولتاژ باتری', 5376]\n",
      "['ولتاژ ورودی', 5124]\n",
      "['نوع باتری', 4856]\n"
     ]
    }
   ],
   "source": [
    "# a = count_keys_type(list_train_dict, 'دسته بندی')\n",
    "for i in range(20):\n",
    "    print(keys_count_list_train[i])"
   ]
  },
  {
   "cell_type": "markdown",
   "id": "60e141f2",
   "metadata": {},
   "source": [
    "## Regression Models"
   ]
  },
  {
   "cell_type": "code",
   "execution_count": 12,
   "id": "1a810ae1",
   "metadata": {},
   "outputs": [],
   "source": [
    "def find_feature(feature, list_dict):\n",
    "    x = []\n",
    "    for i in range(len(list_dict)):\n",
    "        if feature in list_dict[i].keys():\n",
    "            x.append(list_dict[i][feature])\n",
    "    return x\n",
    "\n",
    "def MAPE(y_test, pred):\n",
    "    y_test_temp = []\n",
    "    pred_temp = []\n",
    "    l1 = np.array(y_test)\n",
    "    l2 = np.array(pred)\n",
    "    for i in range(len(y_test)):\n",
    "        if l1[i] != 0:\n",
    "            y_test_temp.append(l1[i])\n",
    "            pred_temp.append(l2[i])\n",
    "    y_test_temp, pred_temp = np.array(y_test_temp), np.array(pred_temp)\n",
    "    mape = np.mean(np.abs((y_test_temp - pred_temp) / y_test_temp))\n",
    "    return mape"
   ]
  },
  {
   "cell_type": "markdown",
   "id": "6b7ff299",
   "metadata": {},
   "source": [
    "### Train"
   ]
  },
  {
   "cell_type": "code",
   "execution_count": 99,
   "id": "ecb8c6cc",
   "metadata": {},
   "outputs": [
    {
     "name": "stdout",
     "output_type": "stream",
     "text": [
      "max y:  2770000000\n",
      "min y:  0\n"
     ]
    },
    {
     "data": {
      "text/plain": [
       "KNeighborsRegressor()"
      ]
     },
     "execution_count": 99,
     "metadata": {},
     "output_type": "execute_result"
    }
   ],
   "source": [
    "feature_1 = \"برند\"\n",
    "feature_2 = \"دسته بندی\"\n",
    "\n",
    "y = train[\"price\"]\n",
    "\n",
    "#normalizing\n",
    "print('max y: ', max(y))\n",
    "print('min y: ', min(y)) # ==> 0\n",
    "train_max_price = max(y)\n",
    "y = y/max(y)\n",
    "\n",
    "x1 = find_feature(feature_1, list_train_dict)\n",
    "x2 = find_feature(feature_2, list_train_dict)\n",
    "x = pd.DataFrame(list(zip(x1, x2)), columns =['برند', 'دسته بندی'])\n",
    "x_train, x_test, y_train, y_test = train_test_split(x, y, test_size=0.2, shuffle=True)\n",
    "\n",
    "ohe = OneHotEncoder(handle_unknown = 'ignore')\n",
    "ohe.fit(x_train)\n",
    "x_train_ohe = ohe.transform(x_train).toarray()\n",
    "\n",
    "# model = LinearRegression()\n",
    "# model = DecisionTreeRegressor()\n",
    "# model = RandomForestRegressor(n_estimators = 50, random_state = 0, bootstrap=True, max_samples=0.1)\n",
    "model = neighbors.KNeighborsRegressor(n_neighbors = 5)\n",
    "model.fit(x_train_ohe, y_train)"
   ]
  },
  {
   "cell_type": "markdown",
   "id": "76f069ee",
   "metadata": {},
   "source": [
    "### Test"
   ]
  },
  {
   "cell_type": "code",
   "execution_count": 100,
   "id": "519765d6",
   "metadata": {},
   "outputs": [],
   "source": [
    "x_test_ohe = ohe.transform(x_test).toarray()\n",
    "y_pred = model.predict(x_test_ohe)"
   ]
  },
  {
   "cell_type": "markdown",
   "id": "49e3ff2d",
   "metadata": {},
   "source": [
    "### Evaluation"
   ]
  },
  {
   "cell_type": "code",
   "execution_count": 101,
   "id": "60509b55",
   "metadata": {},
   "outputs": [
    {
     "name": "stdout",
     "output_type": "stream",
     "text": [
      "MAPE for rows in test_data with nonzero value ==>  16.13059737654671\n",
      "MSE: ==>  0.00018412616465769387\n",
      "Model score ==>  0.5512420509549135\n"
     ]
    }
   ],
   "source": [
    "print('MAPE for rows in test_data with nonzero value ==> ', MAPE(y_test, y_pred))\n",
    "print('MSE: ==> ', mean_squared_error(y_test,y_pred))\n",
    "print('Model score ==> ', model.score(x_test_ohe, y_test))"
   ]
  },
  {
   "cell_type": "markdown",
   "id": "42f19cb2",
   "metadata": {},
   "source": [
    "### Calculate price column for test.csv"
   ]
  },
  {
   "cell_type": "code",
   "execution_count": 102,
   "id": "39a8efa9",
   "metadata": {},
   "outputs": [],
   "source": [
    "x1 = find_feature(feature_1, list_test_dict)\n",
    "x2 = find_feature(feature_2, list_test_dict)\n",
    "x_final_test = pd.DataFrame(list(zip(x1, x2)), columns =['برند', 'دسته بندی'])\n",
    "x_final_test_ohe = ohe.transform(x_final_test).toarray()\n",
    "y_final_test = model.predict(x_final_test_ohe) * train_max_price"
   ]
  },
  {
   "cell_type": "markdown",
   "id": "4e223281",
   "metadata": {},
   "source": [
    "### Save results in output.csv"
   ]
  },
  {
   "cell_type": "code",
   "execution_count": 103,
   "id": "fceb3fa7",
   "metadata": {},
   "outputs": [],
   "source": [
    "titles = ['id', 'price']\n",
    "rows = [titles]\n",
    "for i in range(len(final_test)):\n",
    "    rows.append([str(final_test['id'][i]), str(y_final_test[i])])\n",
    "\n",
    "np.savetxt(\"output.csv\",\n",
    "           rows,\n",
    "           delimiter =\",\",\n",
    "           fmt ='% s')"
   ]
  }
 ],
 "metadata": {
  "colab": {
   "collapsed_sections": [],
   "name": "1_ML_project.ipynb",
   "provenance": []
  },
  "kernelspec": {
   "display_name": "Python 3 (ipykernel)",
   "language": "python",
   "name": "python3"
  },
  "language_info": {
   "codemirror_mode": {
    "name": "ipython",
    "version": 3
   },
   "file_extension": ".py",
   "mimetype": "text/x-python",
   "name": "python",
   "nbconvert_exporter": "python",
   "pygments_lexer": "ipython3",
   "version": "3.9.7"
  },
  "widgets": {
   "application/vnd.jupyter.widget-state+json": {
    "1134516c9f9045a8b3e35667aca14bff": {
     "model_module": "@jupyter-widgets/controls",
     "model_module_version": "1.5.0",
     "model_name": "DescriptionStyleModel",
     "state": {
      "_model_module": "@jupyter-widgets/controls",
      "_model_module_version": "1.5.0",
      "_model_name": "DescriptionStyleModel",
      "_view_count": null,
      "_view_module": "@jupyter-widgets/base",
      "_view_module_version": "1.2.0",
      "_view_name": "StyleView",
      "description_width": ""
     }
    },
    "2fc0922b207148b4a1218bff87072152": {
     "model_module": "@jupyter-widgets/base",
     "model_module_version": "1.2.0",
     "model_name": "LayoutModel",
     "state": {
      "_model_module": "@jupyter-widgets/base",
      "_model_module_version": "1.2.0",
      "_model_name": "LayoutModel",
      "_view_count": null,
      "_view_module": "@jupyter-widgets/base",
      "_view_module_version": "1.2.0",
      "_view_name": "LayoutView",
      "align_content": null,
      "align_items": null,
      "align_self": null,
      "border": null,
      "bottom": null,
      "display": null,
      "flex": null,
      "flex_flow": null,
      "grid_area": null,
      "grid_auto_columns": null,
      "grid_auto_flow": null,
      "grid_auto_rows": null,
      "grid_column": null,
      "grid_gap": null,
      "grid_row": null,
      "grid_template_areas": null,
      "grid_template_columns": null,
      "grid_template_rows": null,
      "height": null,
      "justify_content": null,
      "justify_items": null,
      "left": null,
      "margin": null,
      "max_height": null,
      "max_width": null,
      "min_height": null,
      "min_width": null,
      "object_fit": null,
      "object_position": null,
      "order": null,
      "overflow": null,
      "overflow_x": null,
      "overflow_y": null,
      "padding": null,
      "right": null,
      "top": null,
      "visibility": null,
      "width": null
     }
    },
    "39cdd0b06cfe4516bca31e6f0a39caf4": {
     "model_module": "@jupyter-widgets/controls",
     "model_module_version": "1.5.0",
     "model_name": "DescriptionStyleModel",
     "state": {
      "_model_module": "@jupyter-widgets/controls",
      "_model_module_version": "1.5.0",
      "_model_name": "DescriptionStyleModel",
      "_view_count": null,
      "_view_module": "@jupyter-widgets/base",
      "_view_module_version": "1.2.0",
      "_view_name": "StyleView",
      "description_width": ""
     }
    },
    "59111880cdc7418ca700c80a21886ce5": {
     "model_module": "@jupyter-widgets/base",
     "model_module_version": "1.2.0",
     "model_name": "LayoutModel",
     "state": {
      "_model_module": "@jupyter-widgets/base",
      "_model_module_version": "1.2.0",
      "_model_name": "LayoutModel",
      "_view_count": null,
      "_view_module": "@jupyter-widgets/base",
      "_view_module_version": "1.2.0",
      "_view_name": "LayoutView",
      "align_content": null,
      "align_items": null,
      "align_self": null,
      "border": null,
      "bottom": null,
      "display": null,
      "flex": null,
      "flex_flow": null,
      "grid_area": null,
      "grid_auto_columns": null,
      "grid_auto_flow": null,
      "grid_auto_rows": null,
      "grid_column": null,
      "grid_gap": null,
      "grid_row": null,
      "grid_template_areas": null,
      "grid_template_columns": null,
      "grid_template_rows": null,
      "height": null,
      "justify_content": null,
      "justify_items": null,
      "left": null,
      "margin": null,
      "max_height": null,
      "max_width": null,
      "min_height": null,
      "min_width": null,
      "object_fit": null,
      "object_position": null,
      "order": null,
      "overflow": null,
      "overflow_x": null,
      "overflow_y": null,
      "padding": null,
      "right": null,
      "top": null,
      "visibility": null,
      "width": null
     }
    },
    "5e12b5a5ca394c4b94797a61e9e67993": {
     "model_module": "@jupyter-widgets/controls",
     "model_module_version": "1.5.0",
     "model_name": "ProgressStyleModel",
     "state": {
      "_model_module": "@jupyter-widgets/controls",
      "_model_module_version": "1.5.0",
      "_model_name": "ProgressStyleModel",
      "_view_count": null,
      "_view_module": "@jupyter-widgets/base",
      "_view_module_version": "1.2.0",
      "_view_name": "StyleView",
      "bar_color": null,
      "description_width": ""
     }
    },
    "86a969c5b3c441c0b075ca6882978344": {
     "model_module": "@jupyter-widgets/base",
     "model_module_version": "1.2.0",
     "model_name": "LayoutModel",
     "state": {
      "_model_module": "@jupyter-widgets/base",
      "_model_module_version": "1.2.0",
      "_model_name": "LayoutModel",
      "_view_count": null,
      "_view_module": "@jupyter-widgets/base",
      "_view_module_version": "1.2.0",
      "_view_name": "LayoutView",
      "align_content": null,
      "align_items": null,
      "align_self": null,
      "border": null,
      "bottom": null,
      "display": null,
      "flex": null,
      "flex_flow": null,
      "grid_area": null,
      "grid_auto_columns": null,
      "grid_auto_flow": null,
      "grid_auto_rows": null,
      "grid_column": null,
      "grid_gap": null,
      "grid_row": null,
      "grid_template_areas": null,
      "grid_template_columns": null,
      "grid_template_rows": null,
      "height": null,
      "justify_content": null,
      "justify_items": null,
      "left": null,
      "margin": null,
      "max_height": null,
      "max_width": null,
      "min_height": null,
      "min_width": null,
      "object_fit": null,
      "object_position": null,
      "order": null,
      "overflow": null,
      "overflow_x": null,
      "overflow_y": null,
      "padding": null,
      "right": null,
      "top": null,
      "visibility": null,
      "width": null
     }
    },
    "acbc2cd9d4e14d41b5c1f6c6c545b2fa": {
     "model_module": "@jupyter-widgets/controls",
     "model_module_version": "1.5.0",
     "model_name": "HTMLModel",
     "state": {
      "_dom_classes": [],
      "_model_module": "@jupyter-widgets/controls",
      "_model_module_version": "1.5.0",
      "_model_name": "HTMLModel",
      "_view_count": null,
      "_view_module": "@jupyter-widgets/controls",
      "_view_module_version": "1.5.0",
      "_view_name": "HTMLView",
      "description": "",
      "description_tooltip": null,
      "layout": "IPY_MODEL_2fc0922b207148b4a1218bff87072152",
      "placeholder": "​",
      "style": "IPY_MODEL_1134516c9f9045a8b3e35667aca14bff",
      "value": " 34262/34262 [01:40&lt;00:00, 337.79it/s]"
     }
    },
    "b3379e0211f747eda2619ca57518ffa6": {
     "model_module": "@jupyter-widgets/controls",
     "model_module_version": "1.5.0",
     "model_name": "HTMLModel",
     "state": {
      "_dom_classes": [],
      "_model_module": "@jupyter-widgets/controls",
      "_model_module_version": "1.5.0",
      "_model_name": "HTMLModel",
      "_view_count": null,
      "_view_module": "@jupyter-widgets/controls",
      "_view_module_version": "1.5.0",
      "_view_name": "HTMLView",
      "description": "",
      "description_tooltip": null,
      "layout": "IPY_MODEL_dcd2a4c7f99245419f34147c5da7e4e9",
      "placeholder": "​",
      "style": "IPY_MODEL_39cdd0b06cfe4516bca31e6f0a39caf4",
      "value": "100%"
     }
    },
    "dcd2a4c7f99245419f34147c5da7e4e9": {
     "model_module": "@jupyter-widgets/base",
     "model_module_version": "1.2.0",
     "model_name": "LayoutModel",
     "state": {
      "_model_module": "@jupyter-widgets/base",
      "_model_module_version": "1.2.0",
      "_model_name": "LayoutModel",
      "_view_count": null,
      "_view_module": "@jupyter-widgets/base",
      "_view_module_version": "1.2.0",
      "_view_name": "LayoutView",
      "align_content": null,
      "align_items": null,
      "align_self": null,
      "border": null,
      "bottom": null,
      "display": null,
      "flex": null,
      "flex_flow": null,
      "grid_area": null,
      "grid_auto_columns": null,
      "grid_auto_flow": null,
      "grid_auto_rows": null,
      "grid_column": null,
      "grid_gap": null,
      "grid_row": null,
      "grid_template_areas": null,
      "grid_template_columns": null,
      "grid_template_rows": null,
      "height": null,
      "justify_content": null,
      "justify_items": null,
      "left": null,
      "margin": null,
      "max_height": null,
      "max_width": null,
      "min_height": null,
      "min_width": null,
      "object_fit": null,
      "object_position": null,
      "order": null,
      "overflow": null,
      "overflow_x": null,
      "overflow_y": null,
      "padding": null,
      "right": null,
      "top": null,
      "visibility": null,
      "width": null
     }
    },
    "de5ac4cc34864d8190edb52dddf9993f": {
     "model_module": "@jupyter-widgets/controls",
     "model_module_version": "1.5.0",
     "model_name": "HBoxModel",
     "state": {
      "_dom_classes": [],
      "_model_module": "@jupyter-widgets/controls",
      "_model_module_version": "1.5.0",
      "_model_name": "HBoxModel",
      "_view_count": null,
      "_view_module": "@jupyter-widgets/controls",
      "_view_module_version": "1.5.0",
      "_view_name": "HBoxView",
      "box_style": "",
      "children": [
       "IPY_MODEL_b3379e0211f747eda2619ca57518ffa6",
       "IPY_MODEL_e43ccba4b8a14c3ea6a5b5cb4d536c11",
       "IPY_MODEL_acbc2cd9d4e14d41b5c1f6c6c545b2fa"
      ],
      "layout": "IPY_MODEL_86a969c5b3c441c0b075ca6882978344"
     }
    },
    "e43ccba4b8a14c3ea6a5b5cb4d536c11": {
     "model_module": "@jupyter-widgets/controls",
     "model_module_version": "1.5.0",
     "model_name": "FloatProgressModel",
     "state": {
      "_dom_classes": [],
      "_model_module": "@jupyter-widgets/controls",
      "_model_module_version": "1.5.0",
      "_model_name": "FloatProgressModel",
      "_view_count": null,
      "_view_module": "@jupyter-widgets/controls",
      "_view_module_version": "1.5.0",
      "_view_name": "ProgressView",
      "bar_style": "success",
      "description": "",
      "description_tooltip": null,
      "layout": "IPY_MODEL_59111880cdc7418ca700c80a21886ce5",
      "max": 34262,
      "min": 0,
      "orientation": "horizontal",
      "style": "IPY_MODEL_5e12b5a5ca394c4b94797a61e9e67993",
      "value": 34262
     }
    }
   }
  }
 },
 "nbformat": 4,
 "nbformat_minor": 5
}
